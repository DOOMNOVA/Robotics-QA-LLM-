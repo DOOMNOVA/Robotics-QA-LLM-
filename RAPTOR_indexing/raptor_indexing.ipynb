{
 "cells": [
  {
   "cell_type": "markdown",
   "metadata": {},
   "source": [
    "## Load the textbook embeddings and instantiate the model"
   ]
  },
  {
   "cell_type": "code",
   "execution_count": 52,
   "metadata": {},
   "outputs": [],
   "source": [
    "import pickle\n",
    "import pandas as pd"
   ]
  },
  {
   "cell_type": "code",
   "execution_count": 47,
   "metadata": {},
   "outputs": [],
   "source": [
    "def load_chunks_to_pickle(file_path):\n",
    "    with open(file_path,'rb') as f:\n",
    "        embedding_with_metadata = pickle.load(f)\n",
    "    return embedding_with_metadata\n",
    "\n",
    "\n",
    "\n"
   ]
  },
  {
   "cell_type": "code",
   "execution_count": 49,
   "metadata": {},
   "outputs": [],
   "source": [
    "combined_textbook = load_chunks_to_pickle('/Users/haridevaraj/Documents/Projects/steps_ai/Content_extraction_and_chunking_embed/combined_textbook_chunk_metadata.pkl')"
   ]
  },
  {
   "cell_type": "code",
   "execution_count": 53,
   "metadata": {},
   "outputs": [],
   "source": [
    "#convert the list into a dataframe for easier processing\n",
    "df_combined_textbook = pd.DataFrame(combined_textbook)"
   ]
  },
  {
   "cell_type": "code",
   "execution_count": 55,
   "metadata": {},
   "outputs": [
    {
     "data": {
      "text/plain": [
       "Index(['book_name', 'page_number', 'text_chunk', 'embedding'], dtype='object')"
      ]
     },
     "execution_count": 55,
     "metadata": {},
     "output_type": "execute_result"
    }
   ],
   "source": [
    "df_combined_textbook.columns"
   ]
  },
  {
   "cell_type": "markdown",
   "metadata": {},
   "source": [
    "## Embeddings using SBERT for vector representations with helper functions "
   ]
  },
  {
   "cell_type": "code",
   "execution_count": null,
   "metadata": {},
   "outputs": [],
   "source": [
    "from sentence_transformers import SentenceTransformer\n",
    "\n",
    "embedding_model = SentenceTransformer('multi-qa-MiniLM-L6-cos-v1')\n",
    "\n",
    "\n",
    "\n",
    "#helper function to embed text chunks with metadata\n",
    "def embed_text_chunks(textbook_chunk_metadata,e_model):\n",
    "    for chunk in textbook_chunk_metadata:\n",
    "        text_chunk = chunk['text_chunk']\n",
    "        embedding = e_model.encode(text_chunk)\n",
    "        chunk['embedding'] = embedding\n",
    "    return textbook_chunk_metadata\n",
    "\n",
    "\n",
    "def get_embeddings(textbook_chunk,embed_model=embedding_model):\n",
    "    text_embed = embedding_model.encode(textbook_chunk)\n",
    "    return np.array(text_embed)\n",
    "\n",
    "\n",
    "    "
   ]
  },
  {
   "cell_type": "code",
   "execution_count": 13,
   "metadata": {},
   "outputs": [],
   "source": []
  },
  {
   "cell_type": "code",
   "execution_count": null,
   "metadata": {},
   "outputs": [],
   "source": []
  },
  {
   "cell_type": "code",
   "execution_count": 8,
   "metadata": {},
   "outputs": [],
   "source": [
    "# textbook1_embed = load_embeddings_to_pickle('/Users/haridevaraj/Documents/Projects/steps_ai/Content_extraction_and_chunking_embed/textbook1_embedding_metadata.pkl')\n",
    "# textbook2_embed =load_embeddings_to_pickle('/Users/haridevaraj/Documents/Projects/steps_ai/Content_extraction_and_chunking_embed/textbook2_embedding_metadata.pkl')\n",
    "# textbook3_embed =load_embeddings_to_pickle('/Users/haridevaraj/Documents/Projects/steps_ai/Content_extraction_and_chunking_embed/textbook3_embedding_metadata.pkl')"
   ]
  },
  {
   "cell_type": "markdown",
   "metadata": {},
   "source": [
    "# RAPTOR indexing"
   ]
  },
  {
   "cell_type": "code",
   "execution_count": 46,
   "metadata": {},
   "outputs": [],
   "source": [
    "import numpy as np\n",
    "import pandas as pd\n",
    "import matplotlib.pyplot as plt\n",
    "from sklearn.mixture import GaussianMixture\n",
    "from langchain_google_genai import ChatGoogleGenerativeAI\n",
    "from langchain_google_genai import GoogleGenerativeAIEmbeddings\n",
    "from langchain.chains import StuffDocumentsChain\n",
    "from langchain.chains.llm import LLMChain\n",
    "from langchain.prompts import PromptTemplate, ChatPromptTemplate\n",
    "import umap\n",
    "from config import SUM_API_KEY \n",
    "\n",
    "\n"
   ]
  },
  {
   "cell_type": "markdown",
   "metadata": {},
   "source": [
    "## Clustering  helper functions"
   ]
  },
  {
   "cell_type": "code",
   "execution_count": 36,
   "metadata": {},
   "outputs": [],
   "source": [
    "def gmm_cluster_embeddings_prob_threshold(textbook_embeddings,random_state=42):\n",
    "    num_clusters = get_bayesian_optimal_num_clusters(textbook_embeddings)\n",
    "    \n",
    "    gmm = GaussianMixture(n_components=num_clusters,random_state=random_state)\n",
    "    gmm.fit(textbook_embeddings)\n",
    "    clusters = gmm.predict_proba(textbook_embeddings)\n",
    "    return clusters, gmm\n",
    "\n",
    "#get the optimal number using the Bayesian Information criteria with a GMM\n",
    "def get_bayesian_optimal_num_clusters(textbook_embeddings,max_clusters=30,random_state=42):\n",
    "    max_clusters = min(max_clusters,len(textbook_embeddings))\n",
    "    n_clusters = np.arange(1,max_clusters)\n",
    "    \n",
    "    bayesian_info_criteria=[]\n",
    "    \n",
    "    for num in n_clusters:\n",
    "        gmm = GaussianMixture(n_components=num,random_state=random_state)\n",
    "        gmm.fit(textbook_embeddings)\n",
    "        bayesian_info_criteria.append(gmm.bic())\n",
    "    optim_clusters = n_clusters[np.argmin(bayesian_info_criteria)]\n",
    "    \n",
    "    return optim_clusters\n",
    "    \n",
    "#reducing the cluster using UMAP dimensionality reduction in global and local dimensionality\n",
    "def umap_reduce_global_cluster_embed(textbook_embeddings,dim,n_neighbours=None,metric='cosine'):\n",
    "    if n_neighbhours is None:\n",
    "        n_neighbhours = int((len(textbook_embeddings)-1)**0.5)\n",
    "    global_embed= umap.UMAP(n_neighbours=n_neighbhours,n_components=dim,metric=metric).fit_transform(texbook_embeddings)\n",
    "    return global_embed\n",
    "\n",
    "    \n",
    "\n",
    "def umap_local_cluster_embed(textbook_embeddings,dim,num_neighbhours=10,metric='cosine'):\n",
    "    local_embed = umap.UMAP(n_neighbours=num_neighbhours,n_components=dim,metric=metric).fit_transform(textbook_embeddings)\n",
    "    return local_embed\n",
    "\n",
    " \n",
    "    \n",
    "    \n"
   ]
  },
  {
   "cell_type": "code",
   "execution_count": 30,
   "metadata": {},
   "outputs": [],
   "source": [
    "#embeddings = np.array([chunk['embedding']]for chunk in combined_textbook_embed)"
   ]
  },
  {
   "cell_type": "code",
   "execution_count": 32,
   "metadata": {},
   "outputs": [
    {
     "data": {
      "text/plain": [
       "array(<generator object <genexpr> at 0x12a0c5b10>, dtype=object)"
      ]
     },
     "execution_count": 32,
     "metadata": {},
     "output_type": "execute_result"
    }
   ],
   "source": [
    "#embeddings"
   ]
  },
  {
   "cell_type": "markdown",
   "metadata": {},
   "source": [
    "## Clustering function"
   ]
  },
  {
   "cell_type": "code",
   "execution_count": 37,
   "metadata": {},
   "outputs": [],
   "source": [
    "#Cluster the embeddings in two steps:\n",
    "#  1) reduce their dimensionality globally and the cluster using GMM\n",
    "# 2) Perfom local clustering for each global cluster\n",
    "def clustering(textbook_embeddings,dim,prob_cluster_threshold):\n",
    "    \n",
    "    #avoid clustering for less data---checking if the number of embeddings is too small to perform meaningful clustering. \n",
    "    if len(textbook_embeddings) <=dim +1:\n",
    "        # all data points belong to a single cluster\n",
    "        return [np.array([0]) for _ in range(len(textbook_embeddings))]\n",
    "    \n",
    "    #global dimensionality reduction\n",
    "    global_reduct_embed = umap_reduce_global_cluster_embed(textbook_embeddings,dim)\n",
    "    \n",
    "    #global GMM clustering\n",
    "    global_clusters, num_global_clusters = gmm_cluster_embeddings_prob_threshold(global_reduct_embed,prob_cluster_threshold)\n",
    "    \n",
    "    total_local_clusters = [np.array([]) for _ in range(len(textbook_embeddings))]\n",
    "    #keep track of cumulative count of local clusters\n",
    "    total_clusters = 0\n",
    "    \n",
    "    #perform local clustering for each global cluster\n",
    "    for num_g in range(num_global_clusters):\n",
    "        #extract current global cluster embeddings\n",
    "        gc_embeddings = textbook_embeddings[np.array([num_g in gc for gc in global_clusters])]\n",
    "        \n",
    "        if len(gc_embeddings) == 0:\n",
    "            continue\n",
    "        \n",
    "        # case for small clusters\n",
    "        if len(gc_embeddings) <=dim +1:\n",
    "            local_clusters = [np.array([0])for _ in gc_embeddings]\n",
    "            num_local_clusters = 1\n",
    "        else:\n",
    "            # reduce the local dimensionality and cluster\n",
    "            local_reduct_embed = umap_local_cluster_embed(gc_embeddings,dim)\n",
    "            local_clusters , num_local_clusters = gmm_cluster_embeddings_prob_threshold(local_reduct_embed,prob_cluster_threshold)\n",
    "            \n",
    "        #specify ids for local clusters\n",
    "        for num_l in range(num_local_clusters):\n",
    "            lc_embeddings = gc_embeddings[np.array([num_l in lc for lc in local_clusters])]\n",
    "            \n",
    "            local_idx = np.where(textbook_embeddings==lc_embeddings[:,None].all(-1))[1]\n",
    "            for idx in local_idx:\n",
    "                total_local_clusters[idx] = np.append(total_local_clusters[idx],num_l + total_clusters)\n",
    "        \n",
    "        \n",
    "        total_clusters += num_local_clusters\n",
    "        \n",
    "    return total_local_clusters\n",
    "            \n",
    "        \n",
    "def get_cluster_embed_texts(df_textbook):\n",
    "    \n",
    "    text_embed = get_embeddings(df_textbook['text_chunk'])\n",
    "    \n",
    "    # cluster the embeddings\n",
    "    cluster_labels = clustering(text_embed,10,0.1)\n",
    "    \n",
    "    df_textbook['embedding'] = list(text_embed)\n",
    "    df_textbook['cluster']   = cluster_labels\n",
    "    \n",
    "    return df_textbook\n",
    "    \n",
    "         \n",
    "        \n",
    "        \n",
    "    \n",
    "     \n",
    "    \n",
    "    \n",
    "\n",
    "\n",
    "\n",
    "\n"
   ]
  },
  {
   "cell_type": "markdown",
   "metadata": {},
   "source": []
  },
  {
   "cell_type": "markdown",
   "metadata": {},
   "source": [
    "## Summarization function"
   ]
  },
  {
   "cell_type": "code",
   "execution_count": null,
   "metadata": {},
   "outputs": [],
   "source": []
  },
  {
   "cell_type": "code",
   "execution_count": null,
   "metadata": {},
   "outputs": [],
   "source": [
    "def summarization(df_textbooks,depth):\n",
    "    \n",
    "    df_cluster_text_metadata = get_cluster_embed_texts(df_textbooks)\n",
    "    \n",
    "    \n",
    "    \n",
    "    \n",
    "    \n",
    "    \n",
    "    \n",
    "    \n",
    "    \n",
    "    \n",
    "    \n",
    "    \n",
    "    \n",
    "    \n",
    "    \n",
    "    \n",
    "    \n",
    "    \n",
    "\n",
    "\n",
    "\n",
    "\n",
    "\n"
   ]
  },
  {
   "cell_type": "markdown",
   "metadata": {},
   "source": [
    "## Recursion function for forming hierarchical tree"
   ]
  },
  {
   "cell_type": "code",
   "execution_count": null,
   "metadata": {},
   "outputs": [],
   "source": [
    "def embed_cluster_summarize_recursion(textbook_text,current_recursion_level,num_recurion_level):\n",
    "    "
   ]
  },
  {
   "cell_type": "code",
   "execution_count": null,
   "metadata": {},
   "outputs": [],
   "source": []
  },
  {
   "cell_type": "code",
   "execution_count": 42,
   "metadata": {},
   "outputs": [],
   "source": [
    "summarize_llm = ChatGoogleGenerativeAI(model=\"gemini-pro\",google_api_key=SUM_API_KEY)\n",
    "\n",
    "\n",
    "template= \"\"\" Here is a subset of text from a collection of three textbooks about robotics. Write a summary of the following, including as many key details as possible:\"\"\"\n",
    "prompt = ChatPromptTemplate.from_template"
   ]
  },
  {
   "cell_type": "markdown",
   "metadata": {},
   "source": [
    "## Collapsed Tree retrieval(best performance)"
   ]
  },
  {
   "cell_type": "code",
   "execution_count": 35,
   "metadata": {},
   "outputs": [],
   "source": [
    "from langchain_milvus.vectorstores import Milvus\n",
    "\n",
    "#store the metadata in the metdata field for milvus maybe a df_metadata"
   ]
  },
  {
   "cell_type": "code",
   "execution_count": null,
   "metadata": {},
   "outputs": [],
   "source": []
  }
 ],
 "metadata": {
  "kernelspec": {
   "display_name": "steps",
   "language": "python",
   "name": "python3"
  },
  "language_info": {
   "codemirror_mode": {
    "name": "ipython",
    "version": 3
   },
   "file_extension": ".py",
   "mimetype": "text/x-python",
   "name": "python",
   "nbconvert_exporter": "python",
   "pygments_lexer": "ipython3",
   "version": "3.12.4"
  }
 },
 "nbformat": 4,
 "nbformat_minor": 2
}
