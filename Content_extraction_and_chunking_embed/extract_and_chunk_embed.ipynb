{
 "cells": [
  {
   "cell_type": "code",
   "execution_count": 19,
   "metadata": {},
   "outputs": [],
   "source": [
    "import PyPDF2\n",
    "import re\n",
    "import pickle"
   ]
  },
  {
   "cell_type": "markdown",
   "metadata": {},
   "source": [
    "## Extract the content -- helper function"
   ]
  },
  {
   "cell_type": "code",
   "execution_count": 20,
   "metadata": {},
   "outputs": [],
   "source": [
    "# helper function to extract text and store metadata about the book and page number\n",
    "#Note : the page number is number visible in the pdf viewing app not the embedded page in the \n",
    "def extract_text_from_pdf(pdf_path,book_name):\n",
    "    text_with_metadata=[]\n",
    "    with open(pdf_path,\"rb\") as file:\n",
    "        reader = PyPDF2.PdfReader(file)\n",
    "        for page_num in range(len(reader.pages)):\n",
    "            page = reader.pages[page_num]\n",
    "            page_text=page.extract_text()\n",
    "            text_with_metadata.append({'book_name':book_name,\n",
    "                                           'page_number':page_num +1,\n",
    "                                           'text':page_text if page_text else \"\"})\n",
    "    return text_with_metadata\n",
    "\n",
    "\n",
    "\n",
    "\n",
    "\n",
    "    "
   ]
  },
  {
   "cell_type": "markdown",
   "metadata": {},
   "source": [
    "## textbook extraction"
   ]
  },
  {
   "cell_type": "code",
   "execution_count": 3,
   "metadata": {},
   "outputs": [],
   "source": [
    "text_path_1 = \"Textbooks/Introduction to Autonomous Mobile Robots book.pdf\"\n",
    "text_path_2 = \"Textbooks/Introduction-to-Robotics-3rd-edition.pdf\"\n",
    "text_path_3 = \"Textbooks/mataric-primer.pdf\"\n",
    "textbook_1 = extract_text_from_pdf(text_path_1,\"Introduction to Autonomous Mobile Robots book\")"
   ]
  },
  {
   "cell_type": "code",
   "execution_count": 4,
   "metadata": {},
   "outputs": [
    {
     "name": "stdout",
     "output_type": "stream",
     "text": [
      "336\n"
     ]
    }
   ],
   "source": [
    "print(len(textbook_1))"
   ]
  },
  {
   "cell_type": "code",
   "execution_count": 9,
   "metadata": {},
   "outputs": [
    {
     "name": "stdout",
     "output_type": "stream",
     "text": [
      "408\n"
     ]
    }
   ],
   "source": [
    "textbook_2 = extract_text_from_pdf(text_path_2,\"Introduction-to-Robotics-3rd-edition\")\n",
    "print(len(textbook_2))"
   ]
  },
  {
   "cell_type": "code",
   "execution_count": 10,
   "metadata": {},
   "outputs": [
    {
     "name": "stdout",
     "output_type": "stream",
     "text": [
      "323\n"
     ]
    }
   ],
   "source": [
    "textbook_3 = extract_text_from_pdf(text_path_3,\"mataric-primer\")\n",
    "print(len(textbook_3))"
   ]
  },
  {
   "cell_type": "markdown",
   "metadata": {},
   "source": []
  },
  {
   "cell_type": "markdown",
   "metadata": {},
   "source": [
    "## Data chunking"
   ]
  },
  {
   "cell_type": "code",
   "execution_count": 5,
   "metadata": {},
   "outputs": [
    {
     "name": "stderr",
     "output_type": "stream",
     "text": [
      "[nltk_data] Downloading package punkt to\n",
      "[nltk_data]     /Users/haridevaraj/nltk_data...\n",
      "[nltk_data]   Package punkt is already up-to-date!\n"
     ]
    },
    {
     "data": {
      "text/plain": [
       "True"
      ]
     },
     "execution_count": 5,
     "metadata": {},
     "output_type": "execute_result"
    }
   ],
   "source": [
    "from nltk.tokenize import sent_tokenize, word_tokenize\n",
    "import re\n",
    "import nltk\n",
    "nltk.download('punkt')"
   ]
  },
  {
   "cell_type": "code",
   "execution_count": 11,
   "metadata": {},
   "outputs": [],
   "source": [
    "\n",
    "#helper function to clean text\n",
    "def clean_testbook(text):\n",
    "    \n",
    "    #normalize white space\n",
    "    text = re.sub(r'\\s+',' ',text).strip()\n",
    "    \n",
    "    #replace multiple spaces with single space\n",
    "    text = re.sub(r' {2,}',' ',text)\n",
    "    \n",
    "    #remove unwanted characters, keeping the punctuation\n",
    "    #text = re.sub(r'[^\\w\\s\\.,!?;]','',text)\n",
    "    return text\n",
    "\n",
    "#function to chunck text with metadata\n",
    "def textbook_chunking(textbook,chunk_size=100):\n",
    "    chunks_with_metadata = []\n",
    "    for entry in textbook:\n",
    "        book_name = entry['book_name']\n",
    "        page_number = entry['page_number']\n",
    "        text = entry['text']\n",
    "        \n",
    "        #clean the text\n",
    "        text = clean_testbook(text)\n",
    "        \n",
    "        #tokenize text into sentences\n",
    "        sentences = sent_tokenize(text)\n",
    "        \n",
    "        #chunk each sentence into short, contiguous texts of approx 100 tokens\n",
    "        current_chunk = \"\"\n",
    "        current_chunk_tokens = 0\n",
    "        for sentence in sentences:\n",
    "            tokenized_sentence = word_tokenize(sentence)\n",
    "            if current_chunk_tokens + len(tokenized_sentence) > chunk_size:\n",
    "                # if adding this sentence would exceed the chunk_size, start a new chunk\n",
    "                if current_chunk:\n",
    "                    chunks_with_metadata.append({\n",
    "                        'book_name':book_name,\n",
    "                        'page_number': page_number,\n",
    "                        'text_chunk' : current_chunk.strip()\n",
    "                    })\n",
    "                current_chunk = sentence + \" \"\n",
    "                current_chunk_tokens = len(tokenized_sentence)\n",
    "            else:\n",
    "                current_chunk += sentence + \" \"\n",
    "                current_chunk_tokens += len(tokenized_sentence)\n",
    "            \n",
    "        #if any last chunk\n",
    "        if current_chunk:\n",
    "            chunks_with_metadata.append({\n",
    "                'book_name' : book_name,\n",
    "                'page_number' : page_number,\n",
    "                'text_chunk' : current_chunk.strip()\n",
    "            })\n",
    "            \n",
    "    return chunks_with_metadata\n",
    "                \n",
    "        \n",
    "        \n",
    "    \n",
    "    \n",
    "    \n",
    "\n",
    "\n",
    "\n",
    "\n",
    "\n"
   ]
  },
  {
   "cell_type": "code",
   "execution_count": 12,
   "metadata": {},
   "outputs": [],
   "source": [
    "textbook_chunk_1 = textbook_chunking(textbook_1)\n",
    "textbook_chunk_2 = textbook_chunking(textbook_2)\n",
    "textbook_chunk_3 = textbook_chunking(textbook_3)\n",
    "    \n"
   ]
  },
  {
   "cell_type": "code",
   "execution_count": 13,
   "metadata": {},
   "outputs": [],
   "source": [
    "# combined \n",
    "combined_textbook_chunk = textbook_chunk_1 + textbook_chunk_2 + textbook_chunk_3"
   ]
  },
  {
   "cell_type": "code",
   "execution_count": 22,
   "metadata": {},
   "outputs": [
    {
     "data": {
      "text/plain": [
       "4497"
      ]
     },
     "execution_count": 22,
     "metadata": {},
     "output_type": "execute_result"
    }
   ],
   "source": [
    "len(combined_textbook_chunk)"
   ]
  },
  {
   "cell_type": "code",
   "execution_count": 23,
   "metadata": {},
   "outputs": [],
   "source": [
    "#helper function to embed text chunks with metadata\n",
    "def embed_text_chunks(textbook_chunk_metadata,model):\n",
    "    for chunk in textbook_chunk_metadata:\n",
    "        text_chunk = chunk['text_chunk']\n",
    "        embedding = model.encode(text_chunk)\n",
    "        chunk['embedding'] = embedding\n",
    "    return textbook_chunk_metadata"
   ]
  },
  {
   "cell_type": "markdown",
   "metadata": {},
   "source": [
    "## save the textbook chunks as pickle files "
   ]
  },
  {
   "cell_type": "code",
   "execution_count": 24,
   "metadata": {},
   "outputs": [],
   "source": [
    "#pickle file helper functions\n",
    "def save_chunk_to_pickle(embedding_with_metadata,file_path):\n",
    "    with open(file_path,'wb') as f:\n",
    "        pickle.dump(embedding_with_metadata,f)\n",
    "\n",
    "def load_chunk_to_pickle(file_path):\n",
    "    with open(file_path,'rb') as f:\n",
    "        embedding_with_metadata = pickle.load(f)\n",
    "    return embedding_with_metadata"
   ]
  },
  {
   "cell_type": "code",
   "execution_count": 25,
   "metadata": {},
   "outputs": [],
   "source": [
    "\n",
    "save_chunk_to_pickle(combined_textbook_chunk,'combined_textbook_chunk_metadata.pkl')\n",
    "\n"
   ]
  },
  {
   "cell_type": "code",
   "execution_count": 53,
   "metadata": {},
   "outputs": [],
   "source": [
    "\n"
   ]
  },
  {
   "cell_type": "code",
   "execution_count": 54,
   "metadata": {},
   "outputs": [],
   "source": []
  },
  {
   "cell_type": "code",
   "execution_count": 56,
   "metadata": {},
   "outputs": [],
   "source": [
    "\n"
   ]
  },
  {
   "cell_type": "code",
   "execution_count": null,
   "metadata": {},
   "outputs": [],
   "source": []
  },
  {
   "cell_type": "code",
   "execution_count": null,
   "metadata": {},
   "outputs": [],
   "source": []
  }
 ],
 "metadata": {
  "kernelspec": {
   "display_name": "steps",
   "language": "python",
   "name": "python3"
  },
  "language_info": {
   "codemirror_mode": {
    "name": "ipython",
    "version": 3
   },
   "file_extension": ".py",
   "mimetype": "text/x-python",
   "name": "python",
   "nbconvert_exporter": "python",
   "pygments_lexer": "ipython3",
   "version": "3.12.4"
  }
 },
 "nbformat": 4,
 "nbformat_minor": 2
}
